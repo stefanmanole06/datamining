{
 "cells": [
  {
   "cell_type": "code",
   "execution_count": 1,
   "metadata": {},
   "outputs": [
    {
     "name": "stderr",
     "output_type": "stream",
     "text": [
      "[nltk_data] Downloading package punkt to\n",
      "[nltk_data]     C:\\Users\\Stefan\\AppData\\Roaming\\nltk_data...\n",
      "[nltk_data]   Package punkt is already up-to-date!\n"
     ]
    }
   ],
   "source": [
    "import jsonlines\n",
    "import json\n",
    "import nltk\n",
    "nltk.download('punkt')\n",
    "\n",
    "claims=[]\n",
    "with jsonlines.open('train.jsonl') as json_data:\n",
    "    for obj in json_data:\n",
    "        claims.append(obj['claim'])\n"
   ]
  },
  {
   "cell_type": "code",
   "execution_count": 3,
   "metadata": {},
   "outputs": [],
   "source": [
    "word_dict={}\n",
    "# also added punctuation in the dict and lowercase for all\n",
    "for claim in claims:\n",
    "    words = nltk.word_tokenize(claim)\n",
    "    for word in words:\n",
    "        try:\n",
    "            word_dict[word.lower()]+=1\n",
    "        except:\n",
    "            word_dict[word.lower()]=1"
   ]
  },
  {
   "cell_type": "code",
   "execution_count": 4,
   "metadata": {},
   "outputs": [],
   "source": [
    "import pandas as pd \n",
    "df_words = pd.DataFrame(word_dict.items(), columns=['word', 'count'])"
   ]
  },
  {
   "cell_type": "code",
   "execution_count": 24,
   "metadata": {},
   "outputs": [],
   "source": [
    "df_words = df_words.sort(['count'], ascending=False)\n",
    "df_words = df_words[~df_words['word'].isin(['.', ',', ')', '(', ';', ':'])]\n",
    "df_words.head(10)\n",
    "sum_count = df_words['count'].sum()\n",
    "df_words['frequency'] = (df_words['count'] / sum_count)*100"
   ]
  },
  {
   "cell_type": "code",
   "execution_count": 25,
   "metadata": {},
   "outputs": [
    {
     "data": {
      "text/html": [
       "<div>\n",
       "<table border=\"1\" class=\"dataframe\">\n",
       "  <thead>\n",
       "    <tr style=\"text-align: right;\">\n",
       "      <th></th>\n",
       "      <th>word</th>\n",
       "      <th>count</th>\n",
       "      <th>frequency</th>\n",
       "    </tr>\n",
       "  </thead>\n",
       "  <tbody>\n",
       "    <tr>\n",
       "      <th>7459</th>\n",
       "      <td>the</td>\n",
       "      <td>58279</td>\n",
       "      <td>4.886337</td>\n",
       "    </tr>\n",
       "    <tr>\n",
       "      <th>19453</th>\n",
       "      <td>a</td>\n",
       "      <td>51587</td>\n",
       "      <td>4.325254</td>\n",
       "    </tr>\n",
       "    <tr>\n",
       "      <th>8919</th>\n",
       "      <td>is</td>\n",
       "      <td>47145</td>\n",
       "      <td>3.952819</td>\n",
       "    </tr>\n",
       "    <tr>\n",
       "      <th>8926</th>\n",
       "      <td>in</td>\n",
       "      <td>41121</td>\n",
       "      <td>3.447744</td>\n",
       "    </tr>\n",
       "    <tr>\n",
       "      <th>13312</th>\n",
       "      <td>was</td>\n",
       "      <td>34051</td>\n",
       "      <td>2.854968</td>\n",
       "    </tr>\n",
       "    <tr>\n",
       "      <th>10851</th>\n",
       "      <td>of</td>\n",
       "      <td>27932</td>\n",
       "      <td>2.341927</td>\n",
       "    </tr>\n",
       "    <tr>\n",
       "      <th>15700</th>\n",
       "      <td>an</td>\n",
       "      <td>13760</td>\n",
       "      <td>1.153692</td>\n",
       "    </tr>\n",
       "    <tr>\n",
       "      <th>274</th>\n",
       "      <td>has</td>\n",
       "      <td>11795</td>\n",
       "      <td>0.988938</td>\n",
       "    </tr>\n",
       "    <tr>\n",
       "      <th>6748</th>\n",
       "      <td>by</td>\n",
       "      <td>11761</td>\n",
       "      <td>0.986088</td>\n",
       "    </tr>\n",
       "    <tr>\n",
       "      <th>15070</th>\n",
       "      <td>film</td>\n",
       "      <td>10878</td>\n",
       "      <td>0.912054</td>\n",
       "    </tr>\n",
       "  </tbody>\n",
       "</table>\n",
       "</div>"
      ],
      "text/plain": [
       "       word  count  frequency\n",
       "7459    the  58279   4.886337\n",
       "19453     a  51587   4.325254\n",
       "8919     is  47145   3.952819\n",
       "8926     in  41121   3.447744\n",
       "13312   was  34051   2.854968\n",
       "10851    of  27932   2.341927\n",
       "15700    an  13760   1.153692\n",
       "274     has  11795   0.988938\n",
       "6748     by  11761   0.986088\n",
       "15070  film  10878   0.912054"
      ]
     },
     "execution_count": 25,
     "metadata": {},
     "output_type": "execute_result"
    }
   ],
   "source": [
    "df_words.head(10)"
   ]
  },
  {
   "cell_type": "code",
   "execution_count": 13,
   "metadata": {},
   "outputs": [],
   "source": [
    "count_array = df_words['count']\n",
    "count_array = count_array[:100]"
   ]
  },
  {
   "cell_type": "code",
   "execution_count": 26,
   "metadata": {},
   "outputs": [
    {
     "data": {
      "image/png": "[encoded data removed]",
      "text/plain": [
       "<Figure size 432x288 with 1 Axes>"
      ]
     },
     "metadata": {
      "needs_background": "light"
     },
     "output_type": "display_data"
    }
   ],
   "source": [
    "import numpy as np\n",
    "import matplotlib.pyplot as plt\n",
    "plt.plot(range(len(count_array)), count_array)\n",
    "plt.xlabel('Word ranks')\n",
    "plt.ylabel('Frequenies')\n",
    "plt.show()"
   ]
  }
 ],
 "metadata": {
  "kernelspec": {
   "display_name": "Python 2",
   "language": "python",
   "name": "python2"
  },
  "language_info": {
   "codemirror_mode": {
    "name": "ipython",
    "version": 2
   },
   "file_extension": ".py",
   "mimetype": "text/x-python",
   "name": "python",
   "nbconvert_exporter": "python",
   "pygments_lexer": "ipython2",
   "version": "2.7.12"
  }
 },
 "nbformat": 4,
 "nbformat_minor": 2
}
